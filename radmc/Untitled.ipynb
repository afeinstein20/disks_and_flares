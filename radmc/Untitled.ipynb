{
 "cells": [
  {
   "cell_type": "code",
   "execution_count": 1,
   "metadata": {},
   "outputs": [],
   "source": [
    "import yaml\n",
    "import os, sys\n",
    "import numpy as np\n",
    "import matplotlib.pyplot as plt\n",
    "from astropy.table import Table\n",
    "\n",
    "from scripts import *\n",
    "from models.fiducial import *\n",
    "\n",
    "plt.rcParams['font.size'] = 16"
   ]
  },
  {
   "cell_type": "code",
   "execution_count": 2,
   "metadata": {},
   "outputs": [],
   "source": [
    "path = '/Users/arcticfox/Documents/GitHub/disks_and_outbursts/radmc'"
   ]
  },
  {
   "cell_type": "code",
   "execution_count": 3,
   "metadata": {},
   "outputs": [],
   "source": [
    "modeldir = '/Users/arcticfox/Documents/GitHub/disks_and_outbursts/radmc/models/'\n",
    "uv_spec = np.loadtxt(os.path.join(modeldir, 'uv_enhanced/starspec.txt'))\n",
    "spec = np.loadtxt(os.path.join(modeldir, 'baseline/starspec.txt'))"
   ]
  },
  {
   "cell_type": "code",
   "execution_count": 4,
   "metadata": {},
   "outputs": [
    {
     "data": {
      "text/plain": [
       "Text(0, 0.5, 'flux')"
      ]
     },
     "execution_count": 4,
     "metadata": {},
     "output_type": "execute_result"
    },
    {
     "data": {
      "image/png": "[encoded data removed]",
      "text/plain": [
       "<Figure size 432x288 with 1 Axes>"
      ]
     },
     "metadata": {
      "needs_background": "light"
     },
     "output_type": "display_data"
    }
   ],
   "source": [
    "plt.plot(spec[0], spec[1], 'k')\n",
    "plt.plot(uv_spec[0], uv_spec[1], 'w')\n",
    "plt.yscale('log')\n",
    "plt.xscale('log')\n",
    "plt.xlabel('wavelength');plt.ylabel('flux')"
   ]
  },
  {
   "cell_type": "code",
   "execution_count": 5,
   "metadata": {},
   "outputs": [],
   "source": [
    "#norm = setup(PATH=path, models=['baseline'], uv=False)"
   ]
  },
  {
   "cell_type": "code",
   "execution_count": null,
   "metadata": {},
   "outputs": [
    {
     "name": "stdout",
     "output_type": "stream",
     "text": [
      "/Users/arcticfox/Documents/GitHub/disks_and_outbursts/radmc/models/uv_enhanced/model_inputs.yaml\n",
      "uv_enhanced\n",
      "saved star spectrum\n",
      "0.05 30.0\n",
      "[9.13241822e-02 9.15922076e-02 9.18870355e-02 9.22086660e-02\n",
      " 9.30931498e-02 9.42188564e-02 9.57197986e-02 9.63630595e-02\n",
      " 9.68991103e-02 9.71939383e-02 9.75155687e-02 9.83196449e-02\n",
      " 9.89629058e-02 9.98473896e-02 1.00383440e-01 1.00705071e-01\n",
      " 1.01616357e-01 1.02045198e-01 1.02366828e-01 1.02742064e-01\n",
      " 1.03063694e-01 1.03867770e-01 1.04269809e-01 1.04671847e-01\n",
      " 1.05998572e-01 1.07164483e-01 1.07405706e-01 1.07646929e-01\n",
      " 1.07727336e-01 1.07807744e-01 1.08209782e-01 1.12149755e-01\n",
      " 1.15406264e-01 1.17456658e-01 1.19064810e-01 1.19547256e-01\n",
      " 1.20351332e-01 1.20624718e-01 1.20994593e-01 1.21235816e-01\n",
      " 1.21503841e-01 1.21798669e-01 1.22200707e-01 1.22441930e-01\n",
      " 1.22683153e-01 1.23326414e-01 1.23728452e-01 1.23969675e-01\n",
      " 1.24452121e-01 1.24773751e-01 1.26301496e-01 1.28526106e-01\n",
      " 1.30563099e-01 1.32600092e-01 1.34154640e-01 1.36030817e-01\n",
      " 1.39247122e-01 1.42785057e-01 1.45920954e-01 1.48574406e-01\n",
      " 1.51308265e-01 1.54470964e-01 1.55730684e-01 1.59670657e-01\n",
      " 1.63047777e-01 1.64856948e-01 1.66746527e-01 1.73179137e-01\n",
      " 1.80415822e-01 1.87652508e-01 1.94889193e-01 2.02125879e-01\n",
      " 2.09362565e-01 3.00000000e-01 3.70100530e-01 4.56581341e-01\n",
      " 5.63269988e-01 6.94888404e-01 8.57261888e-01 1.05757693e+00\n",
      " 1.30469928e+00 1.60956631e+00 1.98567115e+00 2.44965982e+00\n",
      " 3.02206799e+00 3.72822988e+00 4.59939952e+00 5.67413400e+00\n",
      " 7.00000000e+00 8.88425137e+00 1.12757032e+01 1.43108831e+01\n",
      " 1.81630690e+01 2.30521815e+01 2.92573392e+01 3.71327938e+01\n",
      " 4.71281534e+01 5.98140516e+01 7.59147243e+01 9.63493562e+01\n",
      " 1.22284557e+02 1.55200963e+02 1.96977767e+02 2.50000000e+02\n",
      " 3.25366522e+02 4.23453495e+02 5.51110364e+02 7.17251450e+02\n",
      " 9.33478439e+02 1.21489053e+03 1.58113883e+03 2.05779857e+03\n",
      " 2.67815505e+03 3.48552798e+03 4.53629647e+03 5.90383603e+03\n",
      " 7.68364238e+03 1.00000000e+04] [1.14412980e-22 2.05598720e-22 3.94662831e-22 6.64474576e-22\n",
      " 7.04737942e-22 6.95898833e-22 7.55001454e-22 5.51740859e-22\n",
      " 6.48517157e-22 1.61883244e-21 4.43331816e-21 3.22476733e-21\n",
      " 2.37074307e-21 1.66302751e-21 8.95604642e-22 5.76601683e-22\n",
      " 4.28459100e-22 6.44798082e-22 1.30018101e-21 2.60159116e-21\n",
      " 4.28956318e-21 3.44897239e-21 1.82441903e-21 5.25507583e-22\n",
      " 6.33004164e-22 6.30186205e-22 5.95090549e-22 6.56858973e-22\n",
      " 7.03438205e-22 7.57975097e-22 1.80230895e-21 1.14111143e-21\n",
      " 1.11091388e-21 7.87197240e-21 1.22648989e-21 7.47673100e-22\n",
      " 1.30237110e-21 2.50792114e-21 3.97400390e-20 1.70408242e-19\n",
      " 3.29478430e-19 1.42509583e-18 1.24684346e-19 7.34477789e-21\n",
      " 2.81493968e-21 9.22178956e-22 3.21116034e-21 1.08506542e-20\n",
      " 4.91046655e-21 2.29346728e-21 1.97795810e-21 2.90095560e-21\n",
      " 1.94908145e-20 2.47769347e-21 5.29329567e-21 3.27887432e-21\n",
      " 7.75764281e-21 3.00546137e-21 5.28180476e-21 5.31199747e-21\n",
      " 4.60909633e-21 1.72983156e-20 8.36113560e-21 9.61738984e-21\n",
      " 7.93230418e-21 7.06880139e-21 8.21281615e-21 1.39625219e-20\n",
      " 1.56620233e-20 1.71131878e-20 1.89024643e-20 2.08500314e-20\n",
      " 2.30633056e-20 8.67848878e-22 4.21859211e-21 1.34940417e-20\n",
      " 3.07733995e-20 5.34549643e-20 7.47338910e-20 8.80524269e-20\n",
      " 9.08087992e-20 8.45193881e-20 7.27237082e-20 5.89310252e-20\n",
      " 4.56129881e-20 3.40830981e-20 2.47849726e-20 1.76473281e-20\n",
      " 1.23600376e-20 8.12320717e-21 5.27109279e-21 3.38704080e-21\n",
      " 2.16001087e-21 1.36944778e-21 8.64281017e-22 5.43526234e-22\n",
      " 3.40862767e-22 2.13301665e-22 1.33250457e-22 8.31308741e-23\n",
      " 5.18083591e-23 3.22610760e-23 2.00759444e-23 1.24868066e-23\n",
      " 7.38400106e-24 4.36483975e-24 2.57940238e-24 1.52395913e-24\n",
      " 9.00229794e-25 5.31712025e-25 3.14018929e-25 1.85439207e-25\n",
      " 1.09501855e-25 6.46578932e-26 3.81774031e-26 2.25413284e-26\n",
      " 1.33089451e-26 7.85779779e-27]\n",
      "Saved radmc setup files in /Users/arcticfox/Documents/GitHub/disks_and_outbursts/radmc/models/uv_enhanced\n",
      "completed thermal mc\n",
      "Reading amr_grid.inp\n",
      "Reading wavelength_micron.inp\n",
      "Reading dust_density.inp\n",
      "Reading dust_temperature.dat\n"
     ]
    }
   ],
   "source": [
    "uv = setup(PATH=path, models=['uv_enhanced'],\n",
    "           star_params={'L_uv_star':2.9e33}, uv=True)"
   ]
  },
  {
   "cell_type": "code",
   "execution_count": null,
   "metadata": {},
   "outputs": [],
   "source": [
    "inp_uv = np.loadtxt('/Users/arcticfox/Documents/GitHub/disks_and_outbursts/radmc/stars_uv.inp')\n",
    "inp_bs = np.loadtxt('/Users/arcticfox/Documents/GitHub/disks_and_outbursts/radmc/stars_base.inp')"
   ]
  },
  {
   "cell_type": "code",
   "execution_count": null,
   "metadata": {},
   "outputs": [],
   "source": [
    "plt.plot(inp_uv)\n",
    "plt.plot(inp_bs)\n",
    "plt.yscale('log')"
   ]
  },
  {
   "cell_type": "code",
   "execution_count": null,
   "metadata": {},
   "outputs": [],
   "source": []
  }
 ],
 "metadata": {
  "kernelspec": {
   "display_name": "Python 3",
   "language": "python",
   "name": "python3"
  },
  "language_info": {
   "codemirror_mode": {
    "name": "ipython",
    "version": 3
   },
   "file_extension": ".py",
   "mimetype": "text/x-python",
   "name": "python",
   "nbconvert_exporter": "python",
   "pygments_lexer": "ipython3",
   "version": "3.7.3"
  }
 },
 "nbformat": 4,
 "nbformat_minor": 2
}
